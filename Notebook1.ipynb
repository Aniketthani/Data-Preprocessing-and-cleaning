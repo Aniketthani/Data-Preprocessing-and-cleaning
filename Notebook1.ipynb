{
  "cells": [
    {
      "cell_type": "markdown",
      "source": [
        "In this guide, we will learn how to do data preprocessing for machine learning.\n",
        "Data Preprocessing is a very vital step in Machine Learning. Most of the real-world data that we get is messy, so we need to clean this data before feeding it into our Machine Learning Model. This process is called Data Preprocessing or Data Cleaning."
      ],
      "metadata": {
        "id": "kDOR2s_WsauW"
      }
    },
    {
      "cell_type": "markdown",
      "source": [
        "**Topics** **Covered** **:** \n",
        "\n",
        "Importing libraries\n",
        "\n",
        "Importing dataset\n",
        "\n",
        "Handling Duplicate Values\n",
        "\n",
        "Handling Missing values\n",
        "\n",
        "Encoding Categorical data\n",
        "\n",
        "Splitting the dataset\n",
        "\n",
        "Feature Scaling"
      ],
      "metadata": {
        "id": "H8I4kZBUsgqG"
      }
    },
    {
      "cell_type": "code",
      "execution_count": 1,
      "metadata": {
        "id": "_x_hKrZWr9xM"
      },
      "outputs": [],
      "source": [
        "# importing libraries\n",
        "import numpy as np\n",
        "import matplotlib.pyplot as plt\n",
        "import pandas as pd"
      ]
    },
    {
      "cell_type": "code",
      "execution_count": 2,
      "metadata": {
        "colab": {
          "base_uri": "https://localhost:8080/"
        },
        "id": "ym4bcBSvr9xR",
        "outputId": "7ce1df0b-0800-41cb-ed40-a6f522bcf0ae"
      },
      "outputs": [
        {
          "output_type": "stream",
          "name": "stdout",
          "text": [
            "    Country   Age   Salary Purchased\n",
            "0    France  44.0  72000.0        No\n",
            "1     Spain  27.0  48000.0       Yes\n",
            "2   Germany  30.0  54000.0        No\n",
            "3     Spain  38.0  61000.0        No\n",
            "4   Nigeria  18.0  15000.0        No\n",
            "5   Germany  40.0      NaN       Yes\n",
            "6    France  35.0  58000.0       Yes\n",
            "7     Spain   NaN  52000.0        No\n",
            "8    France  48.0  79000.0       Yes\n",
            "9   Germany  50.0  83000.0        No\n",
            "10   France  37.0  67000.0       Yes\n",
            "11  Nigeria  50.0  60000.0       Yes\n",
            "12   France  22.0  30000.0        No\n",
            "13      NaN  44.0  45000.0       Yes\n",
            "14   France  47.0  78000.0       NaN\n",
            "15  Nigeria  35.0  43000.0       Yes\n",
            "16    Spain  34.0  44000.0       Yes\n",
            "17    Spain  27.0  48000.0       Yes\n",
            "18    Spain  33.0  48000.0       Yes\n",
            "19  Nigeria  29.0  77000.0       Yes\n",
            "20    Spain   NaN  57000.0       Yes\n",
            "21   France  44.0  48000.0       Yes\n",
            "22  Germany  50.0  83000.0        No\n",
            "23   France  37.0  67000.0       Yes\n",
            "24   France  37.0  23000.0       Yes\n",
            "25  Germany  45.0  50000.0        No\n",
            "26   France  37.0  67000.0       Yes\n",
            "27  Nigeria  30.0  30000.0       Yes\n",
            "28  Nigeria  29.0  15000.0        No\n"
          ]
        }
      ],
      "source": [
        "# import dataset\n",
        "dataset = pd.read_csv('data/sample_data.csv')\n",
        "print(dataset)"
      ]
    },
    {
      "cell_type": "code",
      "execution_count": 4,
      "metadata": {
        "colab": {
          "base_uri": "https://localhost:8080/",
          "height": 206
        },
        "id": "pBUti0vSr9xU",
        "outputId": "a1343c91-4168-423f-aec6-7da0e7ac49c2"
      },
      "outputs": [
        {
          "output_type": "execute_result",
          "data": {
            "text/html": [
              "\n",
              "  <div id=\"df-56919c78-02ff-472f-a639-ef6895b5f8d5\">\n",
              "    <div class=\"colab-df-container\">\n",
              "      <div>\n",
              "<style scoped>\n",
              "    .dataframe tbody tr th:only-of-type {\n",
              "        vertical-align: middle;\n",
              "    }\n",
              "\n",
              "    .dataframe tbody tr th {\n",
              "        vertical-align: top;\n",
              "    }\n",
              "\n",
              "    .dataframe thead th {\n",
              "        text-align: right;\n",
              "    }\n",
              "</style>\n",
              "<table border=\"1\" class=\"dataframe\">\n",
              "  <thead>\n",
              "    <tr style=\"text-align: right;\">\n",
              "      <th></th>\n",
              "      <th>Country</th>\n",
              "      <th>Age</th>\n",
              "      <th>Salary</th>\n",
              "      <th>Purchased</th>\n",
              "    </tr>\n",
              "  </thead>\n",
              "  <tbody>\n",
              "    <tr>\n",
              "      <th>0</th>\n",
              "      <td>France</td>\n",
              "      <td>44.0</td>\n",
              "      <td>72000.0</td>\n",
              "      <td>No</td>\n",
              "    </tr>\n",
              "    <tr>\n",
              "      <th>1</th>\n",
              "      <td>Spain</td>\n",
              "      <td>27.0</td>\n",
              "      <td>48000.0</td>\n",
              "      <td>Yes</td>\n",
              "    </tr>\n",
              "    <tr>\n",
              "      <th>2</th>\n",
              "      <td>Germany</td>\n",
              "      <td>30.0</td>\n",
              "      <td>54000.0</td>\n",
              "      <td>No</td>\n",
              "    </tr>\n",
              "    <tr>\n",
              "      <th>3</th>\n",
              "      <td>Spain</td>\n",
              "      <td>38.0</td>\n",
              "      <td>61000.0</td>\n",
              "      <td>No</td>\n",
              "    </tr>\n",
              "    <tr>\n",
              "      <th>4</th>\n",
              "      <td>Nigeria</td>\n",
              "      <td>18.0</td>\n",
              "      <td>15000.0</td>\n",
              "      <td>No</td>\n",
              "    </tr>\n",
              "  </tbody>\n",
              "</table>\n",
              "</div>\n",
              "      <button class=\"colab-df-convert\" onclick=\"convertToInteractive('df-56919c78-02ff-472f-a639-ef6895b5f8d5')\"\n",
              "              title=\"Convert this dataframe to an interactive table.\"\n",
              "              style=\"display:none;\">\n",
              "        \n",
              "  <svg xmlns=\"http://www.w3.org/2000/svg\" height=\"24px\"viewBox=\"0 0 24 24\"\n",
              "       width=\"24px\">\n",
              "    <path d=\"M0 0h24v24H0V0z\" fill=\"none\"/>\n",
              "    <path d=\"M18.56 5.44l.94 2.06.94-2.06 2.06-.94-2.06-.94-.94-2.06-.94 2.06-2.06.94zm-11 1L8.5 8.5l.94-2.06 2.06-.94-2.06-.94L8.5 2.5l-.94 2.06-2.06.94zm10 10l.94 2.06.94-2.06 2.06-.94-2.06-.94-.94-2.06-.94 2.06-2.06.94z\"/><path d=\"M17.41 7.96l-1.37-1.37c-.4-.4-.92-.59-1.43-.59-.52 0-1.04.2-1.43.59L10.3 9.45l-7.72 7.72c-.78.78-.78 2.05 0 2.83L4 21.41c.39.39.9.59 1.41.59.51 0 1.02-.2 1.41-.59l7.78-7.78 2.81-2.81c.8-.78.8-2.07 0-2.86zM5.41 20L4 18.59l7.72-7.72 1.47 1.35L5.41 20z\"/>\n",
              "  </svg>\n",
              "      </button>\n",
              "      \n",
              "  <style>\n",
              "    .colab-df-container {\n",
              "      display:flex;\n",
              "      flex-wrap:wrap;\n",
              "      gap: 12px;\n",
              "    }\n",
              "\n",
              "    .colab-df-convert {\n",
              "      background-color: #E8F0FE;\n",
              "      border: none;\n",
              "      border-radius: 50%;\n",
              "      cursor: pointer;\n",
              "      display: none;\n",
              "      fill: #1967D2;\n",
              "      height: 32px;\n",
              "      padding: 0 0 0 0;\n",
              "      width: 32px;\n",
              "    }\n",
              "\n",
              "    .colab-df-convert:hover {\n",
              "      background-color: #E2EBFA;\n",
              "      box-shadow: 0px 1px 2px rgba(60, 64, 67, 0.3), 0px 1px 3px 1px rgba(60, 64, 67, 0.15);\n",
              "      fill: #174EA6;\n",
              "    }\n",
              "\n",
              "    [theme=dark] .colab-df-convert {\n",
              "      background-color: #3B4455;\n",
              "      fill: #D2E3FC;\n",
              "    }\n",
              "\n",
              "    [theme=dark] .colab-df-convert:hover {\n",
              "      background-color: #434B5C;\n",
              "      box-shadow: 0px 1px 3px 1px rgba(0, 0, 0, 0.15);\n",
              "      filter: drop-shadow(0px 1px 2px rgba(0, 0, 0, 0.3));\n",
              "      fill: #FFFFFF;\n",
              "    }\n",
              "  </style>\n",
              "\n",
              "      <script>\n",
              "        const buttonEl =\n",
              "          document.querySelector('#df-56919c78-02ff-472f-a639-ef6895b5f8d5 button.colab-df-convert');\n",
              "        buttonEl.style.display =\n",
              "          google.colab.kernel.accessAllowed ? 'block' : 'none';\n",
              "\n",
              "        async function convertToInteractive(key) {\n",
              "          const element = document.querySelector('#df-56919c78-02ff-472f-a639-ef6895b5f8d5');\n",
              "          const dataTable =\n",
              "            await google.colab.kernel.invokeFunction('convertToInteractive',\n",
              "                                                     [key], {});\n",
              "          if (!dataTable) return;\n",
              "\n",
              "          const docLinkHtml = 'Like what you see? Visit the ' +\n",
              "            '<a target=\"_blank\" href=https://colab.research.google.com/notebooks/data_table.ipynb>data table notebook</a>'\n",
              "            + ' to learn more about interactive tables.';\n",
              "          element.innerHTML = '';\n",
              "          dataTable['output_type'] = 'display_data';\n",
              "          await google.colab.output.renderOutput(dataTable, element);\n",
              "          const docLink = document.createElement('div');\n",
              "          docLink.innerHTML = docLinkHtml;\n",
              "          element.appendChild(docLink);\n",
              "        }\n",
              "      </script>\n",
              "    </div>\n",
              "  </div>\n",
              "  "
            ],
            "text/plain": [
              "   Country   Age   Salary Purchased\n",
              "0   France  44.0  72000.0        No\n",
              "1    Spain  27.0  48000.0       Yes\n",
              "2  Germany  30.0  54000.0        No\n",
              "3    Spain  38.0  61000.0        No\n",
              "4  Nigeria  18.0  15000.0        No"
            ]
          },
          "metadata": {},
          "execution_count": 4
        }
      ],
      "source": [
        "# viewing the first few rows of the dataset\n",
        "dataset.head()"
      ]
    },
    {
      "cell_type": "code",
      "execution_count": 3,
      "metadata": {
        "colab": {
          "base_uri": "https://localhost:8080/",
          "height": 300
        },
        "id": "L_2nLE4Hr9xW",
        "outputId": "836dc096-9403-4b2f-aa7c-ba90add5d4d9"
      },
      "outputs": [
        {
          "output_type": "execute_result",
          "data": {
            "text/html": [
              "\n",
              "  <div id=\"df-06259061-f45c-4713-8311-ba9d2fa526f0\">\n",
              "    <div class=\"colab-df-container\">\n",
              "      <div>\n",
              "<style scoped>\n",
              "    .dataframe tbody tr th:only-of-type {\n",
              "        vertical-align: middle;\n",
              "    }\n",
              "\n",
              "    .dataframe tbody tr th {\n",
              "        vertical-align: top;\n",
              "    }\n",
              "\n",
              "    .dataframe thead th {\n",
              "        text-align: right;\n",
              "    }\n",
              "</style>\n",
              "<table border=\"1\" class=\"dataframe\">\n",
              "  <thead>\n",
              "    <tr style=\"text-align: right;\">\n",
              "      <th></th>\n",
              "      <th>Age</th>\n",
              "      <th>Salary</th>\n",
              "    </tr>\n",
              "  </thead>\n",
              "  <tbody>\n",
              "    <tr>\n",
              "      <th>count</th>\n",
              "      <td>27.000000</td>\n",
              "      <td>28.000000</td>\n",
              "    </tr>\n",
              "    <tr>\n",
              "      <th>mean</th>\n",
              "      <td>36.925926</td>\n",
              "      <td>53642.857143</td>\n",
              "    </tr>\n",
              "    <tr>\n",
              "      <th>std</th>\n",
              "      <td>8.757089</td>\n",
              "      <td>19216.532785</td>\n",
              "    </tr>\n",
              "    <tr>\n",
              "      <th>min</th>\n",
              "      <td>18.000000</td>\n",
              "      <td>15000.000000</td>\n",
              "    </tr>\n",
              "    <tr>\n",
              "      <th>25%</th>\n",
              "      <td>30.000000</td>\n",
              "      <td>44750.000000</td>\n",
              "    </tr>\n",
              "    <tr>\n",
              "      <th>50%</th>\n",
              "      <td>37.000000</td>\n",
              "      <td>53000.000000</td>\n",
              "    </tr>\n",
              "    <tr>\n",
              "      <th>75%</th>\n",
              "      <td>44.000000</td>\n",
              "      <td>67000.000000</td>\n",
              "    </tr>\n",
              "    <tr>\n",
              "      <th>max</th>\n",
              "      <td>50.000000</td>\n",
              "      <td>83000.000000</td>\n",
              "    </tr>\n",
              "  </tbody>\n",
              "</table>\n",
              "</div>\n",
              "      <button class=\"colab-df-convert\" onclick=\"convertToInteractive('df-06259061-f45c-4713-8311-ba9d2fa526f0')\"\n",
              "              title=\"Convert this dataframe to an interactive table.\"\n",
              "              style=\"display:none;\">\n",
              "        \n",
              "  <svg xmlns=\"http://www.w3.org/2000/svg\" height=\"24px\"viewBox=\"0 0 24 24\"\n",
              "       width=\"24px\">\n",
              "    <path d=\"M0 0h24v24H0V0z\" fill=\"none\"/>\n",
              "    <path d=\"M18.56 5.44l.94 2.06.94-2.06 2.06-.94-2.06-.94-.94-2.06-.94 2.06-2.06.94zm-11 1L8.5 8.5l.94-2.06 2.06-.94-2.06-.94L8.5 2.5l-.94 2.06-2.06.94zm10 10l.94 2.06.94-2.06 2.06-.94-2.06-.94-.94-2.06-.94 2.06-2.06.94z\"/><path d=\"M17.41 7.96l-1.37-1.37c-.4-.4-.92-.59-1.43-.59-.52 0-1.04.2-1.43.59L10.3 9.45l-7.72 7.72c-.78.78-.78 2.05 0 2.83L4 21.41c.39.39.9.59 1.41.59.51 0 1.02-.2 1.41-.59l7.78-7.78 2.81-2.81c.8-.78.8-2.07 0-2.86zM5.41 20L4 18.59l7.72-7.72 1.47 1.35L5.41 20z\"/>\n",
              "  </svg>\n",
              "      </button>\n",
              "      \n",
              "  <style>\n",
              "    .colab-df-container {\n",
              "      display:flex;\n",
              "      flex-wrap:wrap;\n",
              "      gap: 12px;\n",
              "    }\n",
              "\n",
              "    .colab-df-convert {\n",
              "      background-color: #E8F0FE;\n",
              "      border: none;\n",
              "      border-radius: 50%;\n",
              "      cursor: pointer;\n",
              "      display: none;\n",
              "      fill: #1967D2;\n",
              "      height: 32px;\n",
              "      padding: 0 0 0 0;\n",
              "      width: 32px;\n",
              "    }\n",
              "\n",
              "    .colab-df-convert:hover {\n",
              "      background-color: #E2EBFA;\n",
              "      box-shadow: 0px 1px 2px rgba(60, 64, 67, 0.3), 0px 1px 3px 1px rgba(60, 64, 67, 0.15);\n",
              "      fill: #174EA6;\n",
              "    }\n",
              "\n",
              "    [theme=dark] .colab-df-convert {\n",
              "      background-color: #3B4455;\n",
              "      fill: #D2E3FC;\n",
              "    }\n",
              "\n",
              "    [theme=dark] .colab-df-convert:hover {\n",
              "      background-color: #434B5C;\n",
              "      box-shadow: 0px 1px 3px 1px rgba(0, 0, 0, 0.15);\n",
              "      filter: drop-shadow(0px 1px 2px rgba(0, 0, 0, 0.3));\n",
              "      fill: #FFFFFF;\n",
              "    }\n",
              "  </style>\n",
              "\n",
              "      <script>\n",
              "        const buttonEl =\n",
              "          document.querySelector('#df-06259061-f45c-4713-8311-ba9d2fa526f0 button.colab-df-convert');\n",
              "        buttonEl.style.display =\n",
              "          google.colab.kernel.accessAllowed ? 'block' : 'none';\n",
              "\n",
              "        async function convertToInteractive(key) {\n",
              "          const element = document.querySelector('#df-06259061-f45c-4713-8311-ba9d2fa526f0');\n",
              "          const dataTable =\n",
              "            await google.colab.kernel.invokeFunction('convertToInteractive',\n",
              "                                                     [key], {});\n",
              "          if (!dataTable) return;\n",
              "\n",
              "          const docLinkHtml = 'Like what you see? Visit the ' +\n",
              "            '<a target=\"_blank\" href=https://colab.research.google.com/notebooks/data_table.ipynb>data table notebook</a>'\n",
              "            + ' to learn more about interactive tables.';\n",
              "          element.innerHTML = '';\n",
              "          dataTable['output_type'] = 'display_data';\n",
              "          await google.colab.output.renderOutput(dataTable, element);\n",
              "          const docLink = document.createElement('div');\n",
              "          docLink.innerHTML = docLinkHtml;\n",
              "          element.appendChild(docLink);\n",
              "        }\n",
              "      </script>\n",
              "    </div>\n",
              "  </div>\n",
              "  "
            ],
            "text/plain": [
              "             Age        Salary\n",
              "count  27.000000     28.000000\n",
              "mean   36.925926  53642.857143\n",
              "std     8.757089  19216.532785\n",
              "min    18.000000  15000.000000\n",
              "25%    30.000000  44750.000000\n",
              "50%    37.000000  53000.000000\n",
              "75%    44.000000  67000.000000\n",
              "max    50.000000  83000.000000"
            ]
          },
          "metadata": {},
          "execution_count": 3
        }
      ],
      "source": [
        "# viewing statistical info about dataset\n",
        "dataset.describe()"
      ]
    },
    {
      "cell_type": "code",
      "execution_count": 5,
      "metadata": {
        "id": "pmwSUwinr9xX"
      },
      "outputs": [],
      "source": [
        "# dropping duplicate values\n",
        "dataset = dataset.drop_duplicates()"
      ]
    },
    {
      "cell_type": "code",
      "execution_count": 6,
      "metadata": {
        "colab": {
          "base_uri": "https://localhost:8080/"
        },
        "id": "UOXdKiVPr9xY",
        "outputId": "e017bbbc-9e89-4065-e98e-afe7b32d0af0"
      },
      "outputs": [
        {
          "output_type": "stream",
          "name": "stdout",
          "text": [
            "    Country   Age   Salary Purchased\n",
            "0    France  44.0  72000.0        No\n",
            "1     Spain  27.0  48000.0       Yes\n",
            "2   Germany  30.0  54000.0        No\n",
            "3     Spain  38.0  61000.0        No\n",
            "4   Nigeria  18.0  15000.0        No\n",
            "5   Germany  40.0      NaN       Yes\n",
            "6    France  35.0  58000.0       Yes\n",
            "7     Spain   NaN  52000.0        No\n",
            "8    France  48.0  79000.0       Yes\n",
            "9   Germany  50.0  83000.0        No\n",
            "10   France  37.0  67000.0       Yes\n",
            "11  Nigeria  50.0  60000.0       Yes\n",
            "12   France  22.0  30000.0        No\n",
            "13      NaN  44.0  45000.0       Yes\n",
            "14   France  47.0  78000.0       NaN\n",
            "15  Nigeria  35.0  43000.0       Yes\n",
            "16    Spain  34.0  44000.0       Yes\n",
            "18    Spain  33.0  48000.0       Yes\n",
            "19  Nigeria  29.0  77000.0       Yes\n",
            "20    Spain   NaN  57000.0       Yes\n",
            "21   France  44.0  48000.0       Yes\n",
            "24   France  37.0  23000.0       Yes\n",
            "25  Germany  45.0  50000.0        No\n",
            "27  Nigeria  30.0  30000.0       Yes\n",
            "28  Nigeria  29.0  15000.0        No\n"
          ]
        }
      ],
      "source": [
        "print(dataset)"
      ]
    },
    {
      "cell_type": "code",
      "execution_count": 7,
      "metadata": {
        "colab": {
          "base_uri": "https://localhost:8080/",
          "height": 300
        },
        "id": "ZFgyfZ9rr9xZ",
        "outputId": "92c629ed-1bb9-48d0-a740-d1ac49f2abc4"
      },
      "outputs": [
        {
          "output_type": "execute_result",
          "data": {
            "text/html": [
              "\n",
              "  <div id=\"df-22c43704-f3bc-45ac-bf2f-fc367ec473ed\">\n",
              "    <div class=\"colab-df-container\">\n",
              "      <div>\n",
              "<style scoped>\n",
              "    .dataframe tbody tr th:only-of-type {\n",
              "        vertical-align: middle;\n",
              "    }\n",
              "\n",
              "    .dataframe tbody tr th {\n",
              "        vertical-align: top;\n",
              "    }\n",
              "\n",
              "    .dataframe thead th {\n",
              "        text-align: right;\n",
              "    }\n",
              "</style>\n",
              "<table border=\"1\" class=\"dataframe\">\n",
              "  <thead>\n",
              "    <tr style=\"text-align: right;\">\n",
              "      <th></th>\n",
              "      <th>Age</th>\n",
              "      <th>Salary</th>\n",
              "    </tr>\n",
              "  </thead>\n",
              "  <tbody>\n",
              "    <tr>\n",
              "      <th>count</th>\n",
              "      <td>23.000000</td>\n",
              "      <td>24.000000</td>\n",
              "    </tr>\n",
              "    <tr>\n",
              "      <th>mean</th>\n",
              "      <td>36.782609</td>\n",
              "      <td>51541.666667</td>\n",
              "    </tr>\n",
              "    <tr>\n",
              "      <th>std</th>\n",
              "      <td>8.852101</td>\n",
              "      <td>19352.517344</td>\n",
              "    </tr>\n",
              "    <tr>\n",
              "      <th>min</th>\n",
              "      <td>18.000000</td>\n",
              "      <td>15000.000000</td>\n",
              "    </tr>\n",
              "    <tr>\n",
              "      <th>25%</th>\n",
              "      <td>30.000000</td>\n",
              "      <td>43750.000000</td>\n",
              "    </tr>\n",
              "    <tr>\n",
              "      <th>50%</th>\n",
              "      <td>37.000000</td>\n",
              "      <td>51000.000000</td>\n",
              "    </tr>\n",
              "    <tr>\n",
              "      <th>75%</th>\n",
              "      <td>44.000000</td>\n",
              "      <td>62500.000000</td>\n",
              "    </tr>\n",
              "    <tr>\n",
              "      <th>max</th>\n",
              "      <td>50.000000</td>\n",
              "      <td>83000.000000</td>\n",
              "    </tr>\n",
              "  </tbody>\n",
              "</table>\n",
              "</div>\n",
              "      <button class=\"colab-df-convert\" onclick=\"convertToInteractive('df-22c43704-f3bc-45ac-bf2f-fc367ec473ed')\"\n",
              "              title=\"Convert this dataframe to an interactive table.\"\n",
              "              style=\"display:none;\">\n",
              "        \n",
              "  <svg xmlns=\"http://www.w3.org/2000/svg\" height=\"24px\"viewBox=\"0 0 24 24\"\n",
              "       width=\"24px\">\n",
              "    <path d=\"M0 0h24v24H0V0z\" fill=\"none\"/>\n",
              "    <path d=\"M18.56 5.44l.94 2.06.94-2.06 2.06-.94-2.06-.94-.94-2.06-.94 2.06-2.06.94zm-11 1L8.5 8.5l.94-2.06 2.06-.94-2.06-.94L8.5 2.5l-.94 2.06-2.06.94zm10 10l.94 2.06.94-2.06 2.06-.94-2.06-.94-.94-2.06-.94 2.06-2.06.94z\"/><path d=\"M17.41 7.96l-1.37-1.37c-.4-.4-.92-.59-1.43-.59-.52 0-1.04.2-1.43.59L10.3 9.45l-7.72 7.72c-.78.78-.78 2.05 0 2.83L4 21.41c.39.39.9.59 1.41.59.51 0 1.02-.2 1.41-.59l7.78-7.78 2.81-2.81c.8-.78.8-2.07 0-2.86zM5.41 20L4 18.59l7.72-7.72 1.47 1.35L5.41 20z\"/>\n",
              "  </svg>\n",
              "      </button>\n",
              "      \n",
              "  <style>\n",
              "    .colab-df-container {\n",
              "      display:flex;\n",
              "      flex-wrap:wrap;\n",
              "      gap: 12px;\n",
              "    }\n",
              "\n",
              "    .colab-df-convert {\n",
              "      background-color: #E8F0FE;\n",
              "      border: none;\n",
              "      border-radius: 50%;\n",
              "      cursor: pointer;\n",
              "      display: none;\n",
              "      fill: #1967D2;\n",
              "      height: 32px;\n",
              "      padding: 0 0 0 0;\n",
              "      width: 32px;\n",
              "    }\n",
              "\n",
              "    .colab-df-convert:hover {\n",
              "      background-color: #E2EBFA;\n",
              "      box-shadow: 0px 1px 2px rgba(60, 64, 67, 0.3), 0px 1px 3px 1px rgba(60, 64, 67, 0.15);\n",
              "      fill: #174EA6;\n",
              "    }\n",
              "\n",
              "    [theme=dark] .colab-df-convert {\n",
              "      background-color: #3B4455;\n",
              "      fill: #D2E3FC;\n",
              "    }\n",
              "\n",
              "    [theme=dark] .colab-df-convert:hover {\n",
              "      background-color: #434B5C;\n",
              "      box-shadow: 0px 1px 3px 1px rgba(0, 0, 0, 0.15);\n",
              "      filter: drop-shadow(0px 1px 2px rgba(0, 0, 0, 0.3));\n",
              "      fill: #FFFFFF;\n",
              "    }\n",
              "  </style>\n",
              "\n",
              "      <script>\n",
              "        const buttonEl =\n",
              "          document.querySelector('#df-22c43704-f3bc-45ac-bf2f-fc367ec473ed button.colab-df-convert');\n",
              "        buttonEl.style.display =\n",
              "          google.colab.kernel.accessAllowed ? 'block' : 'none';\n",
              "\n",
              "        async function convertToInteractive(key) {\n",
              "          const element = document.querySelector('#df-22c43704-f3bc-45ac-bf2f-fc367ec473ed');\n",
              "          const dataTable =\n",
              "            await google.colab.kernel.invokeFunction('convertToInteractive',\n",
              "                                                     [key], {});\n",
              "          if (!dataTable) return;\n",
              "\n",
              "          const docLinkHtml = 'Like what you see? Visit the ' +\n",
              "            '<a target=\"_blank\" href=https://colab.research.google.com/notebooks/data_table.ipynb>data table notebook</a>'\n",
              "            + ' to learn more about interactive tables.';\n",
              "          element.innerHTML = '';\n",
              "          dataTable['output_type'] = 'display_data';\n",
              "          await google.colab.output.renderOutput(dataTable, element);\n",
              "          const docLink = document.createElement('div');\n",
              "          docLink.innerHTML = docLinkHtml;\n",
              "          element.appendChild(docLink);\n",
              "        }\n",
              "      </script>\n",
              "    </div>\n",
              "  </div>\n",
              "  "
            ],
            "text/plain": [
              "             Age        Salary\n",
              "count  23.000000     24.000000\n",
              "mean   36.782609  51541.666667\n",
              "std     8.852101  19352.517344\n",
              "min    18.000000  15000.000000\n",
              "25%    30.000000  43750.000000\n",
              "50%    37.000000  51000.000000\n",
              "75%    44.000000  62500.000000\n",
              "max    50.000000  83000.000000"
            ]
          },
          "metadata": {},
          "execution_count": 7
        }
      ],
      "source": [
        "dataset.describe()"
      ]
    },
    {
      "cell_type": "markdown",
      "source": [
        "**Handling Missing Data**\n",
        "\n",
        "In our dataset, there may be some missing values. We cannot train our model with a dataset that contains missing values. So we have to check if our dataset has missing values"
      ],
      "metadata": {
        "id": "t7zEjP1StA01"
      }
    },
    {
      "cell_type": "code",
      "execution_count": 8,
      "metadata": {
        "colab": {
          "base_uri": "https://localhost:8080/",
          "height": 833
        },
        "id": "gOrr7iQIr9xa",
        "outputId": "84806f19-56a4-4c07-c35a-11ee687518d7"
      },
      "outputs": [
        {
          "output_type": "execute_result",
          "data": {
            "text/html": [
              "\n",
              "  <div id=\"df-ea51affc-0ac0-4e0c-ba28-312c7dd56d27\">\n",
              "    <div class=\"colab-df-container\">\n",
              "      <div>\n",
              "<style scoped>\n",
              "    .dataframe tbody tr th:only-of-type {\n",
              "        vertical-align: middle;\n",
              "    }\n",
              "\n",
              "    .dataframe tbody tr th {\n",
              "        vertical-align: top;\n",
              "    }\n",
              "\n",
              "    .dataframe thead th {\n",
              "        text-align: right;\n",
              "    }\n",
              "</style>\n",
              "<table border=\"1\" class=\"dataframe\">\n",
              "  <thead>\n",
              "    <tr style=\"text-align: right;\">\n",
              "      <th></th>\n",
              "      <th>Country</th>\n",
              "      <th>Age</th>\n",
              "      <th>Salary</th>\n",
              "      <th>Purchased</th>\n",
              "    </tr>\n",
              "  </thead>\n",
              "  <tbody>\n",
              "    <tr>\n",
              "      <th>0</th>\n",
              "      <td>False</td>\n",
              "      <td>False</td>\n",
              "      <td>False</td>\n",
              "      <td>False</td>\n",
              "    </tr>\n",
              "    <tr>\n",
              "      <th>1</th>\n",
              "      <td>False</td>\n",
              "      <td>False</td>\n",
              "      <td>False</td>\n",
              "      <td>False</td>\n",
              "    </tr>\n",
              "    <tr>\n",
              "      <th>2</th>\n",
              "      <td>False</td>\n",
              "      <td>False</td>\n",
              "      <td>False</td>\n",
              "      <td>False</td>\n",
              "    </tr>\n",
              "    <tr>\n",
              "      <th>3</th>\n",
              "      <td>False</td>\n",
              "      <td>False</td>\n",
              "      <td>False</td>\n",
              "      <td>False</td>\n",
              "    </tr>\n",
              "    <tr>\n",
              "      <th>4</th>\n",
              "      <td>False</td>\n",
              "      <td>False</td>\n",
              "      <td>False</td>\n",
              "      <td>False</td>\n",
              "    </tr>\n",
              "    <tr>\n",
              "      <th>5</th>\n",
              "      <td>False</td>\n",
              "      <td>False</td>\n",
              "      <td>True</td>\n",
              "      <td>False</td>\n",
              "    </tr>\n",
              "    <tr>\n",
              "      <th>6</th>\n",
              "      <td>False</td>\n",
              "      <td>False</td>\n",
              "      <td>False</td>\n",
              "      <td>False</td>\n",
              "    </tr>\n",
              "    <tr>\n",
              "      <th>7</th>\n",
              "      <td>False</td>\n",
              "      <td>True</td>\n",
              "      <td>False</td>\n",
              "      <td>False</td>\n",
              "    </tr>\n",
              "    <tr>\n",
              "      <th>8</th>\n",
              "      <td>False</td>\n",
              "      <td>False</td>\n",
              "      <td>False</td>\n",
              "      <td>False</td>\n",
              "    </tr>\n",
              "    <tr>\n",
              "      <th>9</th>\n",
              "      <td>False</td>\n",
              "      <td>False</td>\n",
              "      <td>False</td>\n",
              "      <td>False</td>\n",
              "    </tr>\n",
              "    <tr>\n",
              "      <th>10</th>\n",
              "      <td>False</td>\n",
              "      <td>False</td>\n",
              "      <td>False</td>\n",
              "      <td>False</td>\n",
              "    </tr>\n",
              "    <tr>\n",
              "      <th>11</th>\n",
              "      <td>False</td>\n",
              "      <td>False</td>\n",
              "      <td>False</td>\n",
              "      <td>False</td>\n",
              "    </tr>\n",
              "    <tr>\n",
              "      <th>12</th>\n",
              "      <td>False</td>\n",
              "      <td>False</td>\n",
              "      <td>False</td>\n",
              "      <td>False</td>\n",
              "    </tr>\n",
              "    <tr>\n",
              "      <th>13</th>\n",
              "      <td>True</td>\n",
              "      <td>False</td>\n",
              "      <td>False</td>\n",
              "      <td>False</td>\n",
              "    </tr>\n",
              "    <tr>\n",
              "      <th>14</th>\n",
              "      <td>False</td>\n",
              "      <td>False</td>\n",
              "      <td>False</td>\n",
              "      <td>True</td>\n",
              "    </tr>\n",
              "    <tr>\n",
              "      <th>15</th>\n",
              "      <td>False</td>\n",
              "      <td>False</td>\n",
              "      <td>False</td>\n",
              "      <td>False</td>\n",
              "    </tr>\n",
              "    <tr>\n",
              "      <th>16</th>\n",
              "      <td>False</td>\n",
              "      <td>False</td>\n",
              "      <td>False</td>\n",
              "      <td>False</td>\n",
              "    </tr>\n",
              "    <tr>\n",
              "      <th>18</th>\n",
              "      <td>False</td>\n",
              "      <td>False</td>\n",
              "      <td>False</td>\n",
              "      <td>False</td>\n",
              "    </tr>\n",
              "    <tr>\n",
              "      <th>19</th>\n",
              "      <td>False</td>\n",
              "      <td>False</td>\n",
              "      <td>False</td>\n",
              "      <td>False</td>\n",
              "    </tr>\n",
              "    <tr>\n",
              "      <th>20</th>\n",
              "      <td>False</td>\n",
              "      <td>True</td>\n",
              "      <td>False</td>\n",
              "      <td>False</td>\n",
              "    </tr>\n",
              "    <tr>\n",
              "      <th>21</th>\n",
              "      <td>False</td>\n",
              "      <td>False</td>\n",
              "      <td>False</td>\n",
              "      <td>False</td>\n",
              "    </tr>\n",
              "    <tr>\n",
              "      <th>24</th>\n",
              "      <td>False</td>\n",
              "      <td>False</td>\n",
              "      <td>False</td>\n",
              "      <td>False</td>\n",
              "    </tr>\n",
              "    <tr>\n",
              "      <th>25</th>\n",
              "      <td>False</td>\n",
              "      <td>False</td>\n",
              "      <td>False</td>\n",
              "      <td>False</td>\n",
              "    </tr>\n",
              "    <tr>\n",
              "      <th>27</th>\n",
              "      <td>False</td>\n",
              "      <td>False</td>\n",
              "      <td>False</td>\n",
              "      <td>False</td>\n",
              "    </tr>\n",
              "    <tr>\n",
              "      <th>28</th>\n",
              "      <td>False</td>\n",
              "      <td>False</td>\n",
              "      <td>False</td>\n",
              "      <td>False</td>\n",
              "    </tr>\n",
              "  </tbody>\n",
              "</table>\n",
              "</div>\n",
              "      <button class=\"colab-df-convert\" onclick=\"convertToInteractive('df-ea51affc-0ac0-4e0c-ba28-312c7dd56d27')\"\n",
              "              title=\"Convert this dataframe to an interactive table.\"\n",
              "              style=\"display:none;\">\n",
              "        \n",
              "  <svg xmlns=\"http://www.w3.org/2000/svg\" height=\"24px\"viewBox=\"0 0 24 24\"\n",
              "       width=\"24px\">\n",
              "    <path d=\"M0 0h24v24H0V0z\" fill=\"none\"/>\n",
              "    <path d=\"M18.56 5.44l.94 2.06.94-2.06 2.06-.94-2.06-.94-.94-2.06-.94 2.06-2.06.94zm-11 1L8.5 8.5l.94-2.06 2.06-.94-2.06-.94L8.5 2.5l-.94 2.06-2.06.94zm10 10l.94 2.06.94-2.06 2.06-.94-2.06-.94-.94-2.06-.94 2.06-2.06.94z\"/><path d=\"M17.41 7.96l-1.37-1.37c-.4-.4-.92-.59-1.43-.59-.52 0-1.04.2-1.43.59L10.3 9.45l-7.72 7.72c-.78.78-.78 2.05 0 2.83L4 21.41c.39.39.9.59 1.41.59.51 0 1.02-.2 1.41-.59l7.78-7.78 2.81-2.81c.8-.78.8-2.07 0-2.86zM5.41 20L4 18.59l7.72-7.72 1.47 1.35L5.41 20z\"/>\n",
              "  </svg>\n",
              "      </button>\n",
              "      \n",
              "  <style>\n",
              "    .colab-df-container {\n",
              "      display:flex;\n",
              "      flex-wrap:wrap;\n",
              "      gap: 12px;\n",
              "    }\n",
              "\n",
              "    .colab-df-convert {\n",
              "      background-color: #E8F0FE;\n",
              "      border: none;\n",
              "      border-radius: 50%;\n",
              "      cursor: pointer;\n",
              "      display: none;\n",
              "      fill: #1967D2;\n",
              "      height: 32px;\n",
              "      padding: 0 0 0 0;\n",
              "      width: 32px;\n",
              "    }\n",
              "\n",
              "    .colab-df-convert:hover {\n",
              "      background-color: #E2EBFA;\n",
              "      box-shadow: 0px 1px 2px rgba(60, 64, 67, 0.3), 0px 1px 3px 1px rgba(60, 64, 67, 0.15);\n",
              "      fill: #174EA6;\n",
              "    }\n",
              "\n",
              "    [theme=dark] .colab-df-convert {\n",
              "      background-color: #3B4455;\n",
              "      fill: #D2E3FC;\n",
              "    }\n",
              "\n",
              "    [theme=dark] .colab-df-convert:hover {\n",
              "      background-color: #434B5C;\n",
              "      box-shadow: 0px 1px 3px 1px rgba(0, 0, 0, 0.15);\n",
              "      filter: drop-shadow(0px 1px 2px rgba(0, 0, 0, 0.3));\n",
              "      fill: #FFFFFF;\n",
              "    }\n",
              "  </style>\n",
              "\n",
              "      <script>\n",
              "        const buttonEl =\n",
              "          document.querySelector('#df-ea51affc-0ac0-4e0c-ba28-312c7dd56d27 button.colab-df-convert');\n",
              "        buttonEl.style.display =\n",
              "          google.colab.kernel.accessAllowed ? 'block' : 'none';\n",
              "\n",
              "        async function convertToInteractive(key) {\n",
              "          const element = document.querySelector('#df-ea51affc-0ac0-4e0c-ba28-312c7dd56d27');\n",
              "          const dataTable =\n",
              "            await google.colab.kernel.invokeFunction('convertToInteractive',\n",
              "                                                     [key], {});\n",
              "          if (!dataTable) return;\n",
              "\n",
              "          const docLinkHtml = 'Like what you see? Visit the ' +\n",
              "            '<a target=\"_blank\" href=https://colab.research.google.com/notebooks/data_table.ipynb>data table notebook</a>'\n",
              "            + ' to learn more about interactive tables.';\n",
              "          element.innerHTML = '';\n",
              "          dataTable['output_type'] = 'display_data';\n",
              "          await google.colab.output.renderOutput(dataTable, element);\n",
              "          const docLink = document.createElement('div');\n",
              "          docLink.innerHTML = docLinkHtml;\n",
              "          element.appendChild(docLink);\n",
              "        }\n",
              "      </script>\n",
              "    </div>\n",
              "  </div>\n",
              "  "
            ],
            "text/plain": [
              "    Country    Age  Salary  Purchased\n",
              "0     False  False   False      False\n",
              "1     False  False   False      False\n",
              "2     False  False   False      False\n",
              "3     False  False   False      False\n",
              "4     False  False   False      False\n",
              "5     False  False    True      False\n",
              "6     False  False   False      False\n",
              "7     False   True   False      False\n",
              "8     False  False   False      False\n",
              "9     False  False   False      False\n",
              "10    False  False   False      False\n",
              "11    False  False   False      False\n",
              "12    False  False   False      False\n",
              "13     True  False   False      False\n",
              "14    False  False   False       True\n",
              "15    False  False   False      False\n",
              "16    False  False   False      False\n",
              "18    False  False   False      False\n",
              "19    False  False   False      False\n",
              "20    False   True   False      False\n",
              "21    False  False   False      False\n",
              "24    False  False   False      False\n",
              "25    False  False   False      False\n",
              "27    False  False   False      False\n",
              "28    False  False   False      False"
            ]
          },
          "metadata": {},
          "execution_count": 8
        }
      ],
      "source": [
        "# checking for missing values\n",
        "dataset.isnull()"
      ]
    },
    {
      "cell_type": "code",
      "execution_count": 9,
      "metadata": {
        "colab": {
          "base_uri": "https://localhost:8080/"
        },
        "id": "TyfB-agCr9xc",
        "outputId": "d0f4a93a-5d46-4c3b-aaf2-0a9ceb9d851f"
      },
      "outputs": [
        {
          "output_type": "execute_result",
          "data": {
            "text/plain": [
              "Country      1\n",
              "Age          2\n",
              "Salary       1\n",
              "Purchased    1\n",
              "dtype: int64"
            ]
          },
          "metadata": {},
          "execution_count": 9
        }
      ],
      "source": [
        "# checking the number of missing data\n",
        "dataset.isnull().sum()"
      ]
    },
    {
      "cell_type": "markdown",
      "source": [
        "We can handle missing values by:\n",
        "\n",
        "**Deleting the row/column**: This is one of the easiest ways to handle missing values. If we have a lot of missing values in a column, we can just remove that column from our dataset. We could also delete any row with missing values. The only problem with this method is that we lose some information needed by our model to make accurate predictions.\n",
        "\n",
        "**Replacing missing values with Mean/Mode/Median**: For numerical data, we can replace missing values with the mean, mode, or median of the column with the missing value. This way we get to preserve some information needed by our model. The mean is mostly preferred.\n",
        "\n",
        "**Replacing with values close to the missing value:** We could also replace missing values with the value that comes before or after it in the same column.\n",
        "\n",
        "For the columns ‘Country’ and ‘Purchased’, I will remove the rows with missing values."
      ],
      "metadata": {
        "id": "hYxWYrdHtQC-"
      }
    },
    {
      "cell_type": "code",
      "execution_count": 10,
      "metadata": {
        "id": "O7H2xF2tr9xd"
      },
      "outputs": [],
      "source": [
        "# Dropping categorical data rows with missing values\n",
        "dataset.dropna(how='any', subset=['Country', 'Purchased'], inplace=True)"
      ]
    },
    {
      "cell_type": "code",
      "execution_count": 11,
      "metadata": {
        "colab": {
          "base_uri": "https://localhost:8080/"
        },
        "id": "wfT4lIwqr9xf",
        "outputId": "b1989e4d-7196-48c4-d491-5390a7a5bfee"
      },
      "outputs": [
        {
          "output_type": "stream",
          "name": "stdout",
          "text": [
            "    Country   Age   Salary Purchased\n",
            "0    France  44.0  72000.0        No\n",
            "1     Spain  27.0  48000.0       Yes\n",
            "2   Germany  30.0  54000.0        No\n",
            "3     Spain  38.0  61000.0        No\n",
            "4   Nigeria  18.0  15000.0        No\n",
            "5   Germany  40.0      NaN       Yes\n",
            "6    France  35.0  58000.0       Yes\n",
            "7     Spain   NaN  52000.0        No\n",
            "8    France  48.0  79000.0       Yes\n",
            "9   Germany  50.0  83000.0        No\n",
            "10   France  37.0  67000.0       Yes\n",
            "11  Nigeria  50.0  60000.0       Yes\n",
            "12   France  22.0  30000.0        No\n",
            "15  Nigeria  35.0  43000.0       Yes\n",
            "16    Spain  34.0  44000.0       Yes\n",
            "18    Spain  33.0  48000.0       Yes\n",
            "19  Nigeria  29.0  77000.0       Yes\n",
            "20    Spain   NaN  57000.0       Yes\n",
            "21   France  44.0  48000.0       Yes\n",
            "24   France  37.0  23000.0       Yes\n",
            "25  Germany  45.0  50000.0        No\n",
            "27  Nigeria  30.0  30000.0       Yes\n",
            "28  Nigeria  29.0  15000.0        No\n"
          ]
        }
      ],
      "source": [
        "print(dataset)"
      ]
    },
    {
      "cell_type": "code",
      "execution_count": 12,
      "metadata": {
        "colab": {
          "base_uri": "https://localhost:8080/",
          "height": 300
        },
        "id": "QoJHYgizr9xg",
        "outputId": "b42f1986-6f2d-4c70-8ee5-8d598702e078"
      },
      "outputs": [
        {
          "output_type": "execute_result",
          "data": {
            "text/html": [
              "\n",
              "  <div id=\"df-fa03a142-bc3e-40d8-94a3-545d686999ab\">\n",
              "    <div class=\"colab-df-container\">\n",
              "      <div>\n",
              "<style scoped>\n",
              "    .dataframe tbody tr th:only-of-type {\n",
              "        vertical-align: middle;\n",
              "    }\n",
              "\n",
              "    .dataframe tbody tr th {\n",
              "        vertical-align: top;\n",
              "    }\n",
              "\n",
              "    .dataframe thead th {\n",
              "        text-align: right;\n",
              "    }\n",
              "</style>\n",
              "<table border=\"1\" class=\"dataframe\">\n",
              "  <thead>\n",
              "    <tr style=\"text-align: right;\">\n",
              "      <th></th>\n",
              "      <th>Age</th>\n",
              "      <th>Salary</th>\n",
              "    </tr>\n",
              "  </thead>\n",
              "  <tbody>\n",
              "    <tr>\n",
              "      <th>count</th>\n",
              "      <td>21.000000</td>\n",
              "      <td>22.000000</td>\n",
              "    </tr>\n",
              "    <tr>\n",
              "      <th>mean</th>\n",
              "      <td>35.952381</td>\n",
              "      <td>50636.363636</td>\n",
              "    </tr>\n",
              "    <tr>\n",
              "      <th>std</th>\n",
              "      <td>8.811789</td>\n",
              "      <td>19337.960336</td>\n",
              "    </tr>\n",
              "    <tr>\n",
              "      <th>min</th>\n",
              "      <td>18.000000</td>\n",
              "      <td>15000.000000</td>\n",
              "    </tr>\n",
              "    <tr>\n",
              "      <th>25%</th>\n",
              "      <td>30.000000</td>\n",
              "      <td>43250.000000</td>\n",
              "    </tr>\n",
              "    <tr>\n",
              "      <th>50%</th>\n",
              "      <td>35.000000</td>\n",
              "      <td>51000.000000</td>\n",
              "    </tr>\n",
              "    <tr>\n",
              "      <th>75%</th>\n",
              "      <td>44.000000</td>\n",
              "      <td>60750.000000</td>\n",
              "    </tr>\n",
              "    <tr>\n",
              "      <th>max</th>\n",
              "      <td>50.000000</td>\n",
              "      <td>83000.000000</td>\n",
              "    </tr>\n",
              "  </tbody>\n",
              "</table>\n",
              "</div>\n",
              "      <button class=\"colab-df-convert\" onclick=\"convertToInteractive('df-fa03a142-bc3e-40d8-94a3-545d686999ab')\"\n",
              "              title=\"Convert this dataframe to an interactive table.\"\n",
              "              style=\"display:none;\">\n",
              "        \n",
              "  <svg xmlns=\"http://www.w3.org/2000/svg\" height=\"24px\"viewBox=\"0 0 24 24\"\n",
              "       width=\"24px\">\n",
              "    <path d=\"M0 0h24v24H0V0z\" fill=\"none\"/>\n",
              "    <path d=\"M18.56 5.44l.94 2.06.94-2.06 2.06-.94-2.06-.94-.94-2.06-.94 2.06-2.06.94zm-11 1L8.5 8.5l.94-2.06 2.06-.94-2.06-.94L8.5 2.5l-.94 2.06-2.06.94zm10 10l.94 2.06.94-2.06 2.06-.94-2.06-.94-.94-2.06-.94 2.06-2.06.94z\"/><path d=\"M17.41 7.96l-1.37-1.37c-.4-.4-.92-.59-1.43-.59-.52 0-1.04.2-1.43.59L10.3 9.45l-7.72 7.72c-.78.78-.78 2.05 0 2.83L4 21.41c.39.39.9.59 1.41.59.51 0 1.02-.2 1.41-.59l7.78-7.78 2.81-2.81c.8-.78.8-2.07 0-2.86zM5.41 20L4 18.59l7.72-7.72 1.47 1.35L5.41 20z\"/>\n",
              "  </svg>\n",
              "      </button>\n",
              "      \n",
              "  <style>\n",
              "    .colab-df-container {\n",
              "      display:flex;\n",
              "      flex-wrap:wrap;\n",
              "      gap: 12px;\n",
              "    }\n",
              "\n",
              "    .colab-df-convert {\n",
              "      background-color: #E8F0FE;\n",
              "      border: none;\n",
              "      border-radius: 50%;\n",
              "      cursor: pointer;\n",
              "      display: none;\n",
              "      fill: #1967D2;\n",
              "      height: 32px;\n",
              "      padding: 0 0 0 0;\n",
              "      width: 32px;\n",
              "    }\n",
              "\n",
              "    .colab-df-convert:hover {\n",
              "      background-color: #E2EBFA;\n",
              "      box-shadow: 0px 1px 2px rgba(60, 64, 67, 0.3), 0px 1px 3px 1px rgba(60, 64, 67, 0.15);\n",
              "      fill: #174EA6;\n",
              "    }\n",
              "\n",
              "    [theme=dark] .colab-df-convert {\n",
              "      background-color: #3B4455;\n",
              "      fill: #D2E3FC;\n",
              "    }\n",
              "\n",
              "    [theme=dark] .colab-df-convert:hover {\n",
              "      background-color: #434B5C;\n",
              "      box-shadow: 0px 1px 3px 1px rgba(0, 0, 0, 0.15);\n",
              "      filter: drop-shadow(0px 1px 2px rgba(0, 0, 0, 0.3));\n",
              "      fill: #FFFFFF;\n",
              "    }\n",
              "  </style>\n",
              "\n",
              "      <script>\n",
              "        const buttonEl =\n",
              "          document.querySelector('#df-fa03a142-bc3e-40d8-94a3-545d686999ab button.colab-df-convert');\n",
              "        buttonEl.style.display =\n",
              "          google.colab.kernel.accessAllowed ? 'block' : 'none';\n",
              "\n",
              "        async function convertToInteractive(key) {\n",
              "          const element = document.querySelector('#df-fa03a142-bc3e-40d8-94a3-545d686999ab');\n",
              "          const dataTable =\n",
              "            await google.colab.kernel.invokeFunction('convertToInteractive',\n",
              "                                                     [key], {});\n",
              "          if (!dataTable) return;\n",
              "\n",
              "          const docLinkHtml = 'Like what you see? Visit the ' +\n",
              "            '<a target=\"_blank\" href=https://colab.research.google.com/notebooks/data_table.ipynb>data table notebook</a>'\n",
              "            + ' to learn more about interactive tables.';\n",
              "          element.innerHTML = '';\n",
              "          dataTable['output_type'] = 'display_data';\n",
              "          await google.colab.output.renderOutput(dataTable, element);\n",
              "          const docLink = document.createElement('div');\n",
              "          docLink.innerHTML = docLinkHtml;\n",
              "          element.appendChild(docLink);\n",
              "        }\n",
              "      </script>\n",
              "    </div>\n",
              "  </div>\n",
              "  "
            ],
            "text/plain": [
              "             Age        Salary\n",
              "count  21.000000     22.000000\n",
              "mean   35.952381  50636.363636\n",
              "std     8.811789  19337.960336\n",
              "min    18.000000  15000.000000\n",
              "25%    30.000000  43250.000000\n",
              "50%    35.000000  51000.000000\n",
              "75%    44.000000  60750.000000\n",
              "max    50.000000  83000.000000"
            ]
          },
          "metadata": {},
          "execution_count": 12
        }
      ],
      "source": [
        "dataset.describe()"
      ]
    },
    {
      "cell_type": "markdown",
      "source": [
        "Before I replace the missing values in the other columns, I will separate the independent variables and target variable. The target variable is what we are trying to predict. While the independent variables are the features that will help us make the predictions. The columns ‘Country’, ‘Age’, and ‘Salary’ are our independent variables, while ‘Purchased’ is our target variable.\n",
        "\n",
        "In the code above, for the parameter ‘how’, the argument ‘any’ drops the row if any value is null. But the argument ‘all’ will only drop the row if all the values are null. The argument for the ‘subset’ parameter is a list containing the columns we want to remove missing values from. ‘inplace=True’ modifies our original dataframe, instead of returning a copy of the dataframe."
      ],
      "metadata": {
        "id": "H7nk01qLtiyv"
      }
    },
    {
      "cell_type": "code",
      "execution_count": 13,
      "metadata": {
        "id": "FwQBZP4fr9xh"
      },
      "outputs": [],
      "source": [
        "# Splitting dataset into independent and dependent variable\n",
        "X = dataset[['Country', 'Age', 'Salary']].values\n",
        "y = dataset['Purchased'].values"
      ]
    },
    {
      "cell_type": "code",
      "execution_count": 14,
      "metadata": {
        "colab": {
          "base_uri": "https://localhost:8080/"
        },
        "id": "sX_fgzR1r9xi",
        "outputId": "ae76668a-2496-4a04-c7df-52c23a564632"
      },
      "outputs": [
        {
          "output_type": "stream",
          "name": "stdout",
          "text": [
            "[['France' 44.0 72000.0]\n",
            " ['Spain' 27.0 48000.0]\n",
            " ['Germany' 30.0 54000.0]\n",
            " ['Spain' 38.0 61000.0]\n",
            " ['Nigeria' 18.0 15000.0]\n",
            " ['Germany' 40.0 nan]\n",
            " ['France' 35.0 58000.0]\n",
            " ['Spain' nan 52000.0]\n",
            " ['France' 48.0 79000.0]\n",
            " ['Germany' 50.0 83000.0]\n",
            " ['France' 37.0 67000.0]\n",
            " ['Nigeria' 50.0 60000.0]\n",
            " ['France' 22.0 30000.0]\n",
            " ['Nigeria' 35.0 43000.0]\n",
            " ['Spain' 34.0 44000.0]\n",
            " ['Spain' 33.0 48000.0]\n",
            " ['Nigeria' 29.0 77000.0]\n",
            " ['Spain' nan 57000.0]\n",
            " ['France' 44.0 48000.0]\n",
            " ['France' 37.0 23000.0]\n",
            " ['Germany' 45.0 50000.0]\n",
            " ['Nigeria' 30.0 30000.0]\n",
            " ['Nigeria' 29.0 15000.0]]\n"
          ]
        }
      ],
      "source": [
        "print(X)"
      ]
    },
    {
      "cell_type": "code",
      "execution_count": 15,
      "metadata": {
        "colab": {
          "base_uri": "https://localhost:8080/"
        },
        "id": "5R7bbNVRr9xj",
        "outputId": "cfb2ea5c-6009-4aeb-bbca-0bf8fb1b7eea"
      },
      "outputs": [
        {
          "output_type": "stream",
          "name": "stdout",
          "text": [
            "['No' 'Yes' 'No' 'No' 'No' 'Yes' 'Yes' 'No' 'Yes' 'No' 'Yes' 'Yes' 'No'\n",
            " 'Yes' 'Yes' 'Yes' 'Yes' 'Yes' 'Yes' 'Yes' 'No' 'Yes' 'No']\n"
          ]
        }
      ],
      "source": [
        "print(y)"
      ]
    },
    {
      "cell_type": "markdown",
      "source": [
        "We will replace the missing values in the ‘Age’ and ‘Salary’ columns with the mean."
      ],
      "metadata": {
        "id": "ukJVhbKdtp3V"
      }
    },
    {
      "cell_type": "code",
      "execution_count": 16,
      "metadata": {
        "colab": {
          "base_uri": "https://localhost:8080/"
        },
        "id": "eYIGqdv2r9xk",
        "outputId": "fbb59e13-dfea-405d-8da1-00ae51b280ee"
      },
      "outputs": [
        {
          "output_type": "stream",
          "name": "stdout",
          "text": [
            "[[44.0 72000.0]\n",
            " [27.0 48000.0]\n",
            " [30.0 54000.0]\n",
            " [38.0 61000.0]\n",
            " [18.0 15000.0]\n",
            " [40.0 nan]\n",
            " [35.0 58000.0]\n",
            " [nan 52000.0]\n",
            " [48.0 79000.0]\n",
            " [50.0 83000.0]\n",
            " [37.0 67000.0]\n",
            " [50.0 60000.0]\n",
            " [22.0 30000.0]\n",
            " [35.0 43000.0]\n",
            " [34.0 44000.0]\n",
            " [33.0 48000.0]\n",
            " [29.0 77000.0]\n",
            " [nan 57000.0]\n",
            " [44.0 48000.0]\n",
            " [37.0 23000.0]\n",
            " [45.0 50000.0]\n",
            " [30.0 30000.0]\n",
            " [29.0 15000.0]]\n"
          ]
        }
      ],
      "source": [
        "# replacing the missing values in the age and salary column with the mean\n",
        "# import the SimpleImputer class from the sklearn library\n",
        "from sklearn.impute import SimpleImputer\n",
        "# help(SimpleImputer)\n",
        "print(X[:, 1:3])"
      ]
    },
    {
      "cell_type": "code",
      "execution_count": 17,
      "metadata": {
        "id": "7KXnrwXUr9xm"
      },
      "outputs": [],
      "source": [
        "imputer = SimpleImputer(missing_values=np.nan, strategy='mean')\n",
        "imputer.fit(X[:, 1:3])\n",
        "X[:, 1:3] = imputer.transform(X[:, 1:3])"
      ]
    },
    {
      "cell_type": "code",
      "execution_count": 18,
      "metadata": {
        "colab": {
          "base_uri": "https://localhost:8080/"
        },
        "id": "OjOsD28rr9xn",
        "outputId": "dc2e382f-84f8-4bfb-ab6a-c0ac75b26375"
      },
      "outputs": [
        {
          "output_type": "stream",
          "name": "stdout",
          "text": [
            "[[44.0 72000.0]\n",
            " [27.0 48000.0]\n",
            " [30.0 54000.0]\n",
            " [38.0 61000.0]\n",
            " [18.0 15000.0]\n",
            " [40.0 50636.36363636364]\n",
            " [35.0 58000.0]\n",
            " [35.95238095238095 52000.0]\n",
            " [48.0 79000.0]\n",
            " [50.0 83000.0]\n",
            " [37.0 67000.0]\n",
            " [50.0 60000.0]\n",
            " [22.0 30000.0]\n",
            " [35.0 43000.0]\n",
            " [34.0 44000.0]\n",
            " [33.0 48000.0]\n",
            " [29.0 77000.0]\n",
            " [35.95238095238095 57000.0]\n",
            " [44.0 48000.0]\n",
            " [37.0 23000.0]\n",
            " [45.0 50000.0]\n",
            " [30.0 30000.0]\n",
            " [29.0 15000.0]]\n"
          ]
        }
      ],
      "source": [
        "print(X[:, 1:3])"
      ]
    },
    {
      "cell_type": "markdown",
      "source": [
        "In the SimpleImputer() class, np.nan represents the missing values in our NumPy array. That will be the argument to the ‘missing_values’ parameter. ‘strategy=mean’ means we will be replacing the missing values with the mean.\n",
        "\n",
        "The .fit() method will connect our ‘imputer’ object to the matrix of features X. But to do the replacement, we need to call another method, this is the .transform() method. This will apply the transformation, thereby replacing the missing values with the mean.\n",
        "\n",
        "**Encoding Categorical Data**\n",
        "\n",
        "Deborah Rumsey defines categorical data as the type of data that is used to group information with similar characteristics. In our dataset, the ‘Country’ & ‘Purchased’ columns contain categorical data.\n",
        "\n",
        "Our Machine Learning Model works with numbers, so our model won’t understand these categorical data. We need to encode these categorical data into numbers. To do this, we apply One-Hot Encoding. One Hot Encoding converts the column with the categorical data into multiple new columns as shown below:"
      ],
      "metadata": {
        "id": "Q0MfO-hZtyoV"
      }
    },
    {
      "cell_type": "markdown",
      "source": [
        "![image.png](data:image/png;base64,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)"
      ],
      "metadata": {
        "id": "SNP0eIh-t8FW"
      }
    },
    {
      "cell_type": "markdown",
      "source": [
        "From sklearn.compose, we will import the ColumnTransformer class. We will also import OneHotEncoder class from the preprocessing module of the sklearn library."
      ],
      "metadata": {
        "id": "v-_LE1x6uFZh"
      }
    },
    {
      "cell_type": "code",
      "execution_count": 19,
      "metadata": {
        "id": "tKRzMDMTr9xo"
      },
      "outputs": [],
      "source": [
        "# Handling Categorical Data\n",
        "from sklearn.compose import ColumnTransformer\n",
        "from sklearn.preprocessing import OneHotEncoder\n",
        "\n",
        "ct = ColumnTransformer(transformers=[('enconder', OneHotEncoder(), [0])],\n",
        "                       remainder='passthrough')\n",
        "X = np.array(ct.fit_transform(X))"
      ]
    },
    {
      "cell_type": "code",
      "execution_count": 20,
      "metadata": {
        "scrolled": true,
        "colab": {
          "base_uri": "https://localhost:8080/"
        },
        "id": "FINtWja8r9xq",
        "outputId": "4031e66a-a688-41ea-c585-994f91d20d74"
      },
      "outputs": [
        {
          "output_type": "stream",
          "name": "stdout",
          "text": [
            "[[1.0 0.0 0.0 0.0 44.0 72000.0]\n",
            " [0.0 0.0 0.0 1.0 27.0 48000.0]\n",
            " [0.0 1.0 0.0 0.0 30.0 54000.0]\n",
            " [0.0 0.0 0.0 1.0 38.0 61000.0]\n",
            " [0.0 0.0 1.0 0.0 18.0 15000.0]\n",
            " [0.0 1.0 0.0 0.0 40.0 50636.36363636364]\n",
            " [1.0 0.0 0.0 0.0 35.0 58000.0]\n",
            " [0.0 0.0 0.0 1.0 35.95238095238095 52000.0]\n",
            " [1.0 0.0 0.0 0.0 48.0 79000.0]\n",
            " [0.0 1.0 0.0 0.0 50.0 83000.0]\n",
            " [1.0 0.0 0.0 0.0 37.0 67000.0]\n",
            " [0.0 0.0 1.0 0.0 50.0 60000.0]\n",
            " [1.0 0.0 0.0 0.0 22.0 30000.0]\n",
            " [0.0 0.0 1.0 0.0 35.0 43000.0]\n",
            " [0.0 0.0 0.0 1.0 34.0 44000.0]\n",
            " [0.0 0.0 0.0 1.0 33.0 48000.0]\n",
            " [0.0 0.0 1.0 0.0 29.0 77000.0]\n",
            " [0.0 0.0 0.0 1.0 35.95238095238095 57000.0]\n",
            " [1.0 0.0 0.0 0.0 44.0 48000.0]\n",
            " [1.0 0.0 0.0 0.0 37.0 23000.0]\n",
            " [0.0 1.0 0.0 0.0 45.0 50000.0]\n",
            " [0.0 0.0 1.0 0.0 30.0 30000.0]\n",
            " [0.0 0.0 1.0 0.0 29.0 15000.0]]\n"
          ]
        }
      ],
      "source": [
        "print(X)"
      ]
    },
    {
      "cell_type": "markdown",
      "source": [
        "In the ColumnTransformer class, for the argument ‘transformers’, we have a list containing a tuple as the parameter. The first item ‘encoder’ is the type of transformation we want. ‘OneHotEncoder()’ is the class that will handle the transformation. ‘[0]’ is the index of the column we want to encode. If we have multiple columns to transform, we can put them in the list. In this case, we only have one column with index 0, so it is only 0 that is in the list. The remainder=’passthrough’ means we want to leave the other columns the way they are without transforming them"
      ],
      "metadata": {
        "id": "nSYMt2v9uL02"
      }
    },
    {
      "cell_type": "code",
      "execution_count": 21,
      "metadata": {
        "colab": {
          "base_uri": "https://localhost:8080/"
        },
        "id": "uFYKEPwLr9xr",
        "outputId": "84a87f26-e770-4b9a-cdec-741d9cf6a56e"
      },
      "outputs": [
        {
          "output_type": "stream",
          "name": "stdout",
          "text": [
            "['No' 'Yes' 'No' 'No' 'No' 'Yes' 'Yes' 'No' 'Yes' 'No' 'Yes' 'Yes' 'No'\n",
            " 'Yes' 'Yes' 'Yes' 'Yes' 'Yes' 'Yes' 'Yes' 'No' 'Yes' 'No']\n"
          ]
        }
      ],
      "source": [
        "print(y)"
      ]
    },
    {
      "cell_type": "markdown",
      "source": [
        "For our target variable ‘Purchased’, we will apply Label Encoding instead of One Hot Encoding. This is because we need No to be represented by 0 and Yes to be represented by 1."
      ],
      "metadata": {
        "id": "QuSGOsV7uPQJ"
      }
    },
    {
      "cell_type": "markdown",
      "source": [
        "![image.png](data:image/png;base64,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)"
      ],
      "metadata": {
        "id": "vFTNheZauSjI"
      }
    },
    {
      "cell_type": "code",
      "execution_count": 22,
      "metadata": {
        "id": "TIN_UUD6r9xs"
      },
      "outputs": [],
      "source": [
        "# Encoding the target variable\n",
        "from sklearn.preprocessing import LabelEncoder\n",
        "le = LabelEncoder()\n",
        "y = le.fit_transform(y)"
      ]
    },
    {
      "cell_type": "code",
      "execution_count": 23,
      "metadata": {
        "colab": {
          "base_uri": "https://localhost:8080/"
        },
        "id": "_Q_xlFgEr9xt",
        "outputId": "1f7f69b6-e64a-4997-ba75-87faaeba5463"
      },
      "outputs": [
        {
          "output_type": "stream",
          "name": "stdout",
          "text": [
            "[0 1 0 0 0 1 1 0 1 0 1 1 0 1 1 1 1 1 1 1 0 1 0]\n"
          ]
        }
      ],
      "source": [
        "print(y)"
      ]
    },
    {
      "cell_type": "markdown",
      "source": [
        "**Splitting the Dataset**\n",
        "\n",
        "Splitting our dataset into training & test set is another important step in data preprocessing. We will use part of the dataset to train the model. The other part of the dataset will be used to evaluate our model, to see how it performs on new data that it hasn’t seen before. We will do the split in the 80:20 ratio. 80% of the dataset will be used for training, while 20% will be used for testing."
      ],
      "metadata": {
        "id": "L72yF8FUuXe-"
      }
    },
    {
      "cell_type": "code",
      "execution_count": 24,
      "metadata": {
        "id": "j5DvuykFr9xu"
      },
      "outputs": [],
      "source": [
        "# Splitting Dataset into Training and Test Set\n",
        "from sklearn.model_selection import train_test_split\n",
        "X_train, X_test, y_train, y_test = train_test_split(X, y, test_size=0.2, random_state=2)"
      ]
    },
    {
      "cell_type": "markdown",
      "source": [
        "For the train_test_split function, the argument X is our features (independent variable). The argument y is our target variable,\n",
        "‘test_size=0.2’ means 20% of the dataset will be used as the test set. The random_state sets a seed to the random generator."
      ],
      "metadata": {
        "id": "8F0nYRUCugEk"
      }
    },
    {
      "cell_type": "code",
      "execution_count": 25,
      "metadata": {
        "colab": {
          "base_uri": "https://localhost:8080/"
        },
        "id": "KHVq9RHOr9xv",
        "outputId": "992ce60d-bb0e-4024-ec21-a30b43beacdf"
      },
      "outputs": [
        {
          "output_type": "stream",
          "name": "stdout",
          "text": [
            "[[0.0 0.0 1.0 0.0 29.0 77000.0]\n",
            " [0.0 0.0 0.0 1.0 38.0 61000.0]\n",
            " [1.0 0.0 0.0 0.0 22.0 30000.0]\n",
            " [0.0 1.0 0.0 0.0 50.0 83000.0]\n",
            " [0.0 0.0 1.0 0.0 18.0 15000.0]\n",
            " [1.0 0.0 0.0 0.0 37.0 67000.0]\n",
            " [0.0 1.0 0.0 0.0 40.0 50636.36363636364]\n",
            " [0.0 0.0 0.0 1.0 35.95238095238095 57000.0]\n",
            " [0.0 0.0 0.0 1.0 27.0 48000.0]\n",
            " [0.0 1.0 0.0 0.0 30.0 54000.0]\n",
            " [0.0 0.0 0.0 1.0 35.95238095238095 52000.0]\n",
            " [1.0 0.0 0.0 0.0 37.0 23000.0]\n",
            " [1.0 0.0 0.0 0.0 44.0 48000.0]\n",
            " [0.0 0.0 1.0 0.0 50.0 60000.0]\n",
            " [0.0 0.0 1.0 0.0 29.0 15000.0]\n",
            " [0.0 0.0 1.0 0.0 35.0 43000.0]\n",
            " [0.0 0.0 0.0 1.0 33.0 48000.0]\n",
            " [1.0 0.0 0.0 0.0 48.0 79000.0]]\n"
          ]
        }
      ],
      "source": [
        "print(X_train)"
      ]
    },
    {
      "cell_type": "code",
      "execution_count": 26,
      "metadata": {
        "colab": {
          "base_uri": "https://localhost:8080/"
        },
        "id": "OMgPcyayr9xw",
        "outputId": "8bb60877-b1c2-4dfd-d732-f4d2aba1ae32"
      },
      "outputs": [
        {
          "output_type": "stream",
          "name": "stdout",
          "text": [
            "[[0.0 1.0 0.0 0.0 45.0 50000.0]\n",
            " [1.0 0.0 0.0 0.0 44.0 72000.0]\n",
            " [0.0 0.0 1.0 0.0 30.0 30000.0]\n",
            " [1.0 0.0 0.0 0.0 35.0 58000.0]\n",
            " [0.0 0.0 0.0 1.0 34.0 44000.0]]\n"
          ]
        }
      ],
      "source": [
        "print(X_test)"
      ]
    },
    {
      "cell_type": "code",
      "execution_count": 27,
      "metadata": {
        "colab": {
          "base_uri": "https://localhost:8080/"
        },
        "id": "poHOMS0or9xw",
        "outputId": "2b077baa-7565-41f9-8d7c-096da8fcd276"
      },
      "outputs": [
        {
          "output_type": "stream",
          "name": "stdout",
          "text": [
            "[1 0 0 0 0 1 1 1 1 0 0 1 1 1 0 1 1 1]\n"
          ]
        }
      ],
      "source": [
        "print(y_train)"
      ]
    },
    {
      "cell_type": "code",
      "execution_count": 28,
      "metadata": {
        "colab": {
          "base_uri": "https://localhost:8080/"
        },
        "id": "ZrzVlq1Br9xx",
        "outputId": "7fe00adc-37be-4cd7-f212-6601f60dd5e6"
      },
      "outputs": [
        {
          "output_type": "stream",
          "name": "stdout",
          "text": [
            "[0 0 1 1 1]\n"
          ]
        }
      ],
      "source": [
        "print(y_test)"
      ]
    },
    {
      "cell_type": "markdown",
      "source": [
        "**Feature Scaling**\n",
        "\n",
        "This is the final step of data preprocessing. Feature scaling puts all our data in the same range and on the same scale. We do not want any feature of our dataset to dominate another feature. We don’t have to apply feature scaling to all datasets, especially if the features of that dataset are already within the same range. We could apply normalization or standardization to our dataset. The formula is shown below:\n",
        "\n"
      ],
      "metadata": {
        "id": "pw6SZyScukbC"
      }
    },
    {
      "cell_type": "markdown",
      "source": [
        "![image.png](data:image/png;base64,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)"
      ],
      "metadata": {
        "id": "aI9WhlbMuoUY"
      }
    },
    {
      "cell_type": "markdown",
      "source": [
        "Standardization puts all the values between the range of -3 and 3. But normalization will always give you positive values between the range of 0 and 1.\n",
        "We will apply standardization. We will use the StandardScaler class from the preprocessing module of the sklearn library. We won’t apply feature scaling to the one-hot encoded columns (dummy variables). We don’t want to change the interpretation of those values"
      ],
      "metadata": {
        "id": "30M49nuuutqV"
      }
    },
    {
      "cell_type": "code",
      "execution_count": 29,
      "metadata": {
        "id": "oUTmpfWWr9x1"
      },
      "outputs": [],
      "source": [
        "# Feature Scaling\n",
        "from sklearn.preprocessing import StandardScaler\n",
        "sc = StandardScaler()\n",
        "X_train[:, 4:] = sc.fit_transform(X_train[:, 4:])"
      ]
    },
    {
      "cell_type": "markdown",
      "source": [
        "The .fit() method of the StandardScaler() class will just calculate the mean and standard deviation for X_train, while the .transform() method will transform the values with the formula above. We can do the fit and transform in one line of code by using the .fit_transform() method."
      ],
      "metadata": {
        "id": "pI4AzyAzux4j"
      }
    },
    {
      "cell_type": "code",
      "execution_count": 30,
      "metadata": {
        "colab": {
          "base_uri": "https://localhost:8080/"
        },
        "id": "7-YxLb8Ur9x2",
        "outputId": "04a7e286-ca45-4536-b3cd-d04c8c7cd8f8"
      },
      "outputs": [
        {
          "output_type": "stream",
          "name": "stdout",
          "text": [
            "[[0.0 0.0 1.0 0.0 -0.746521345589145 1.351588046193331]\n",
            " [0.0 0.0 0.0 1.0 0.28796566772827725 0.5327257531467691]\n",
            " [1.0 0.0 0.0 0.0 -1.55112235594714 -1.0538199396309444]\n",
            " [0.0 1.0 0.0 0.0 1.6672816854848402 1.6586614060857916]\n",
            " [0.0 0.0 1.0 0.0 -2.0108943618659945 -1.8215033393620963]\n",
            " [1.0 0.0 0.0 0.0 0.1730226662485637 0.8397991130392297]\n",
            " [0.0 1.0 0.0 0.0 0.5178516706877044 0.0023263133325189464]\n",
            " [0.0 0.0 0.0 1.0 0.05260618850791099 0.3280101798851286]\n",
            " [0.0 0.0 0.0 1.0 -0.9764073485485721 -0.13259985995356244]\n",
            " [0.0 1.0 0.0 0.0 -0.6315783441094314 0.17447349993889827]\n",
            " [0.0 0.0 0.0 1.0 0.05260618850791099 0.07211571330807803]\n",
            " [1.0 0.0 0.0 0.0 0.1730226662485637 -1.4120721928388154]\n",
            " [1.0 0.0 0.0 0.0 0.9776236766065588 -0.13259985995356244]\n",
            " [0.0 0.0 1.0 0.0 1.6672816854848402 0.481546859831359]\n",
            " [0.0 0.0 1.0 0.0 -0.746521345589145 -1.8215033393620963]\n",
            " [0.0 0.0 1.0 0.0 -0.056863336710863466 -0.388494326530613]\n",
            " [0.0 0.0 0.0 1.0 -0.28674933967029065 -0.13259985995356244]\n",
            " [1.0 0.0 0.0 0.0 1.437395682525413 1.4539458328241512]]\n"
          ]
        }
      ],
      "source": [
        "print(X_train)"
      ]
    },
    {
      "cell_type": "code",
      "execution_count": 31,
      "metadata": {
        "colab": {
          "base_uri": "https://localhost:8080/"
        },
        "id": "I5-mt6Ptr9x2",
        "outputId": "7142426f-305c-4ba8-e78b-80fd45ed7106"
      },
      "outputs": [
        {
          "output_type": "stream",
          "name": "stdout",
          "text": [
            "[[0.0 1.0 0.0 0.0 45.0 50000.0]\n",
            " [1.0 0.0 0.0 0.0 44.0 72000.0]\n",
            " [0.0 0.0 1.0 0.0 30.0 30000.0]\n",
            " [1.0 0.0 0.0 0.0 35.0 58000.0]\n",
            " [0.0 0.0 0.0 1.0 34.0 44000.0]]\n"
          ]
        }
      ],
      "source": [
        "print(X_test)"
      ]
    },
    {
      "cell_type": "code",
      "execution_count": 32,
      "metadata": {
        "id": "pBIi0s8ur9x3"
      },
      "outputs": [],
      "source": [
        "X_test[:, 4:] = sc.transform(X_test[:, 4:])"
      ]
    },
    {
      "cell_type": "code",
      "execution_count": 33,
      "metadata": {
        "colab": {
          "base_uri": "https://localhost:8080/"
        },
        "id": "w1nqVtitr9x4",
        "outputId": "61221b31-2bb6-41d6-ae80-f56126a43719"
      },
      "outputs": [
        {
          "output_type": "stream",
          "name": "stdout",
          "text": [
            "[[0.0 1.0 0.0 0.0 1.0925666780862724 -0.030242073322742206]\n",
            " [1.0 0.0 0.0 0.0 0.9776236766065588 1.0956935796162803]\n",
            " [0.0 0.0 1.0 0.0 -0.6315783441094314 -1.0538199396309444]\n",
            " [1.0 0.0 0.0 0.0 -0.056863336710863466 0.37918907320053874]\n",
            " [0.0 0.0 0.0 1.0 -0.17180633819057706 -0.3373154332152029]]\n"
          ]
        }
      ],
      "source": [
        "print(X_test)"
      ]
    },
    {
      "cell_type": "markdown",
      "source": [
        "**Conclusion**\n",
        "\n",
        "Before we can train a Machine Learning model, we need to clean our data.\n",
        "If we don’t clean our dataset, we will run into some problems during training. We need to handle missing values, encode categorical variables, and sometimes apply feature scaling to our dataset.\n",
        "\n",
        "After data preprocessing, we can now train our machine learning model."
      ],
      "metadata": {
        "id": "Ol7xhTARu6cW"
      }
    }
  ],
  "metadata": {
    "kernelspec": {
      "display_name": "Python 3",
      "language": "python",
      "name": "python3"
    },
    "language_info": {
      "codemirror_mode": {
        "name": "ipython",
        "version": 3
      },
      "file_extension": ".py",
      "mimetype": "text/x-python",
      "name": "python",
      "nbconvert_exporter": "python",
      "pygments_lexer": "ipython3",
      "version": "3.8.3"
    },
    "colab": {
      "name": "Data Prep.ipynb",
      "provenance": [],
      "collapsed_sections": []
    }
  },
  "nbformat": 4,
  "nbformat_minor": 0
}